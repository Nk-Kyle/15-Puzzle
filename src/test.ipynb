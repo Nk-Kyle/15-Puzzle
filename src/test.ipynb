{
 "cells": [
  {
   "cell_type": "code",
   "execution_count": 7,
   "metadata": {},
   "outputs": [
    {
     "name": "stdout",
     "output_type": "stream",
     "text": [
      "[0, 2, 1]\n"
     ]
    }
   ],
   "source": [
    "from heapq import *\n",
    "\n",
    "buffer = []\n",
    "def push(val):\n",
    "    heappop(buffer)\n",
    "\n",
    "push(1)"
   ]
  }
 ],
 "metadata": {
  "interpreter": {
   "hash": "a7014b9d83f49c7c655a81df126049523c0c45838aade67d2f4b442b6c6a9eb0"
  },
  "kernelspec": {
   "display_name": "Python 3.10.2 ('venv': venv)",
   "language": "python",
   "name": "python3"
  },
  "language_info": {
   "codemirror_mode": {
    "name": "ipython",
    "version": 3
   },
   "file_extension": ".py",
   "mimetype": "text/x-python",
   "name": "python",
   "nbconvert_exporter": "python",
   "pygments_lexer": "ipython3",
   "version": "3.10.2"
  },
  "orig_nbformat": 4
 },
 "nbformat": 4,
 "nbformat_minor": 2
}
